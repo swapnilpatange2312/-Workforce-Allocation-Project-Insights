{
 "cells": [
  {
   "cell_type": "code",
   "execution_count": 1,
   "id": "c87ffdff-7eba-485f-b8f7-da3833567682",
   "metadata": {},
   "outputs": [
    {
     "name": "stdout",
     "output_type": "stream",
     "text": [
      "All three CSV files are saved.\n"
     ]
    }
   ],
   "source": [
    "'''Task 1 - There are three different tables as given above. Please make three dataframe in python \n",
    "and save them as three .csv files. From Task 2 to Task 10, use the saved .csv files only.'''\n",
    "\n",
    "# Import pandas and numpy library \n",
    "import pandas as pd\n",
    "import numpy as np\n",
    "# Creating the table: Project Data\n",
    "project_data = {\n",
    "    \"ID\": [\"A001\", \"A002\", \"A003\", \"A004\", \"A005\", \"A002\", \"A005\", \"A003\", \"A001\", \"A003\", \"A001\", \"A004\", \"A005\"],\n",
    "    \"Project\": [\"Project 1\", \"Project 2\", \"Project 3\", \"Project 4\", \"Project 5\", \"Project 6\", \"Project 7\", \"Project 8\", \"Project 9\", \"Project 10\", \"Project 11\", \"Project 12\", \"Project 14\"],\n",
    "    \"Cost\": [1002000, 2000000, 4500000, 5500000, None, 680000, 400000, 350000, None, 300000, 2000000, 1000000, 200000],\n",
    "    \"Status\": [\"Finished\", \"Ongoing\", \"Finished\", \"Ongoing\", \"Finished\", \"Failed\", \"Finished\", \"Failed\", \"Ongoing\", \"Finished\", \"Failed\", \"Ongoing\", \"Finished\"]\n",
    "}\n",
    "\n",
    "# Convert to DataFrame\n",
    "project_df = pd.DataFrame(project_data)\n",
    "\n",
    "# Saving to CSV file\n",
    "project_df.to_csv(\"project.csv\", index=False)\n",
    "\n",
    "# Creating the table: Employee Data\n",
    "employee_data = {\n",
    "    \"ID\": [\"A001\", \"A002\", \"A003\", \"A004\", \"A005\"],\n",
    "    \"Name\": [\"John Alter\", \"Alice Luxumberg\", \"Tom Sabestine\", \"Nina Adgra\", \"Amy Johny\"],\n",
    "    \"Gender\": [\"M\", \"F\", \"M\", \"F\", \"F\"],\n",
    "    \"City\": [\"Paris\", \"London\", \"Berlin\", \"Newyork\", \"Madrid\"],\n",
    "    \"Age\": [25, 27, 29, 31, 30]\n",
    "}\n",
    "\n",
    "# Convert to DataFrame\n",
    "employee_df = pd.DataFrame(employee_data)\n",
    "\n",
    "# Saving to CSV file\n",
    "employee_df.to_csv(\"employee.csv\", index=False)\n",
    "\n",
    "# Creat the table: Seniority Level\n",
    "seniority_data = {\n",
    "    \"ID\": [\"A001\", \"A002\", \"A003\", \"A004\", \"A005\"],\n",
    "    \"Designation Level\": [2, 2, 3, 2, 3]\n",
    "}\n",
    "\n",
    "# Convert to DataFrame\n",
    "seniority_df = pd.DataFrame(seniority_data)\n",
    "\n",
    "# Save to CSV file\n",
    "seniority_df.to_csv(\"seniority.csv\", index=False)\n",
    "\n",
    "# Print a message to confirm our saved files\n",
    "print(\"All three CSV files are saved.\")"
   ]
  },
  {
   "cell_type": "code",
   "execution_count": null,
   "id": "74a8bb04-9b58-47b0-94e6-72050fdf32de",
   "metadata": {},
   "outputs": [],
   "source": []
  },
  {
   "cell_type": "code",
   "execution_count": 2,
   "id": "02db5591-c5e9-4654-bef7-6802f8c39da6",
   "metadata": {},
   "outputs": [
    {
     "name": "stdout",
     "output_type": "stream",
     "text": [
      "Original Project Data:\n",
      "      ID     Project       Cost    Status\n",
      "0   A001   Project 1  1002000.0  Finished\n",
      "1   A002   Project 2  2000000.0   Ongoing\n",
      "2   A003   Project 3  4500000.0  Finished\n",
      "3   A004   Project 4  5500000.0   Ongoing\n",
      "4   A005   Project 5        NaN  Finished\n",
      "5   A002   Project 6   680000.0    Failed\n",
      "6   A005   Project 7   400000.0  Finished\n",
      "7   A003   Project 8   350000.0    Failed\n",
      "8   A001   Project 9        NaN   Ongoing\n",
      "9   A003  Project 10   300000.0  Finished\n",
      "10  A001  Project 11  2000000.0    Failed\n",
      "11  A004  Project 12  1000000.0   Ongoing\n",
      "12  A005  Project 14   200000.0  Finished\n"
     ]
    }
   ],
   "source": [
    "''' Task 2 - The cost column in the dataframe “Project” has some missing values. Your task is to \n",
    "compute these missing values. Replace the missing values by running average. You \n",
    "should use the “For” loop for this task. ''' \n",
    "\n",
    "# Read the saved CSV file for Project Data\n",
    "project_df = pd.read_csv(\"project.csv\")\n",
    "\n",
    "# Display the original dataframe to check missing values\n",
    "print(\"Original Project Data:\")\n",
    "print(project_df)"
   ]
  },
  {
   "cell_type": "code",
   "execution_count": 3,
   "id": "01336925-a100-4c41-898a-a1cb91ce646c",
   "metadata": {},
   "outputs": [
    {
     "name": "stdout",
     "output_type": "stream",
     "text": [
      "\n",
      "Project Data After Adding The Missing Values:\n",
      "      ID     Project          Cost    Status\n",
      "0   A001   Project 1  1.002000e+06  Finished\n",
      "1   A002   Project 2  2.000000e+06   Ongoing\n",
      "2   A003   Project 3  4.500000e+06  Finished\n",
      "3   A004   Project 4  5.500000e+06   Ongoing\n",
      "4   A005   Project 5  3.250500e+06  Finished\n",
      "5   A002   Project 6  6.800000e+05    Failed\n",
      "6   A005   Project 7  4.000000e+05  Finished\n",
      "7   A003   Project 8  3.500000e+05    Failed\n",
      "8   A001   Project 9  2.061714e+06   Ongoing\n",
      "9   A003  Project 10  3.000000e+05  Finished\n",
      "10  A001  Project 11  2.000000e+06    Failed\n",
      "11  A004  Project 12  1.000000e+06   Ongoing\n",
      "12  A005  Project 14  2.000000e+05  Finished\n"
     ]
    }
   ],
   "source": [
    "# Create a variable to keep track of the running sum and count\n",
    "running_count = 0\n",
    "count = 0\n",
    "\n",
    "# Using \"for loop\" to replace missing values with running average\n",
    "for i in range(len(project_df)):\n",
    "    cost = project_df.loc[i, \"Cost\"]  # Get the current cost value\n",
    "    \n",
    "    if pd.isnull(cost):  # Check if the cost is missing\n",
    "        # Calculating the running average and replacing the missing value\n",
    "        running_avg = running_count / count\n",
    "        project_df.loc[i, \"Cost\"] = running_avg\n",
    "    else:\n",
    "        # Updating the running sum and counting if the value is present\n",
    "        running_count += project_df.loc[i, \"Cost\"]\n",
    "        count += 1\n",
    "\n",
    "print(\"\\nProject Data After Adding The Missing Values:\")\n",
    "print(project_df)\n",
    "\n",
    "# Saving the updated CSV file\n",
    "project_df.to_csv(\"project_updated.csv\", index=False)"
   ]
  },
  {
   "cell_type": "code",
   "execution_count": null,
   "id": "6047bf26-c7f3-4fdb-b892-b6f87b5904a4",
   "metadata": {},
   "outputs": [],
   "source": []
  },
  {
   "cell_type": "code",
   "execution_count": 4,
   "id": "d1f79794-c6fc-42e8-b25f-45fa65a29230",
   "metadata": {},
   "outputs": [
    {
     "name": "stdout",
     "output_type": "stream",
     "text": [
      "Original Employee Data :\n",
      "     ID             Name Gender     City  Age\n",
      "0  A001       John Alter      M    Paris   25\n",
      "1  A002  Alice Luxumberg      F   London   27\n",
      "2  A003    Tom Sabestine      M   Berlin   29\n",
      "3  A004       Nina Adgra      F  Newyork   31\n",
      "4  A005        Amy Johny      F   Madrid   30\n"
     ]
    }
   ],
   "source": [
    "'''Task 3 - Split the name column in the Employee dataframe into two new columns “First Name”, \n",
    "and “Last Name” and remove the older “name” column.''' \n",
    "\n",
    "# Read the employee CSV file\n",
    "employee_df = pd.read_csv(\"employee.csv\")\n",
    "\n",
    "# Display the original data\n",
    "print(\"Original Employee Data :\")\n",
    "print(employee_df)"
   ]
  },
  {
   "cell_type": "code",
   "execution_count": 5,
   "id": "94b642ee-6d91-4a62-8d64-03caac36946c",
   "metadata": {},
   "outputs": [],
   "source": [
    "# Split the Name column into two new columns\n",
    "employee_df[\"First Name\"] = employee_df[\"Name\"].str.split().str[0]\n",
    "employee_df[\"Last Name\"] = employee_df[\"Name\"].str.split().str[1]\n",
    "\n",
    "# Remove the old Name column\n",
    "employee_df = employee_df.drop(\"Name\", axis=1)\n",
    "\n"
   ]
  },
  {
   "cell_type": "code",
   "execution_count": 6,
   "id": "68bb1d11-dfa7-400d-a345-2564c9576962",
   "metadata": {},
   "outputs": [
    {
     "name": "stdout",
     "output_type": "stream",
     "text": [
      "\n",
      "Updated Employee Data Table:\n",
      "     ID Gender     City  Age First Name  Last Name\n",
      "0  A001      M    Paris   25       John      Alter\n",
      "1  A002      F   London   27      Alice  Luxumberg\n",
      "2  A003      M   Berlin   29        Tom  Sabestine\n",
      "3  A004      F  Newyork   31       Nina      Adgra\n",
      "4  A005      F   Madrid   30        Amy      Johny\n"
     ]
    }
   ],
   "source": [
    "# Display the updated dataframe below\n",
    "print(\"\\nUpdated Employee Data Table:\")\n",
    "print(employee_df)\n",
    "\n",
    "# Save to a new CSV file\n",
    "employee_df.to_csv(\"employee_updated.csv\", index=False)"
   ]
  },
  {
   "cell_type": "code",
   "execution_count": null,
   "id": "87cd6f9e-200a-437b-b252-061bfc70793f",
   "metadata": {},
   "outputs": [],
   "source": []
  },
  {
   "cell_type": "code",
   "execution_count": 29,
   "id": "a1801d59-b871-4547-9b8e-92b46dd44b3e",
   "metadata": {},
   "outputs": [
    {
     "name": "stdout",
     "output_type": "stream",
     "text": [
      "Final Merged DataFrame:\n",
      "      ID     Project          Cost    Status Gender     City  Age First Name  \\\n",
      "0   A001   Project 1  1.002000e+06  Finished      M    Paris   25       John   \n",
      "1   A002   Project 2  2.000000e+06   Ongoing      F   London   27      Alice   \n",
      "2   A003   Project 3  4.500000e+06  Finished      M   Berlin   29        Tom   \n",
      "3   A004   Project 4  5.500000e+06   Ongoing      F  Newyork   31       Nina   \n",
      "4   A005   Project 5  3.250500e+06  Finished      F   Madrid   30        Amy   \n",
      "5   A002   Project 6  6.800000e+05    Failed      F   London   27      Alice   \n",
      "6   A005   Project 7  4.000000e+05  Finished      F   Madrid   30        Amy   \n",
      "7   A003   Project 8  3.500000e+05    Failed      M   Berlin   29        Tom   \n",
      "8   A001   Project 9  2.061714e+06   Ongoing      M    Paris   25       John   \n",
      "9   A003  Project 10  3.000000e+05  Finished      M   Berlin   29        Tom   \n",
      "10  A001  Project 11  2.000000e+06    Failed      M    Paris   25       John   \n",
      "11  A004  Project 12  1.000000e+06   Ongoing      F  Newyork   31       Nina   \n",
      "12  A005  Project 14  2.000000e+05  Finished      F   Madrid   30        Amy   \n",
      "\n",
      "    Last Name  Designation Level  \n",
      "0       Alter                  2  \n",
      "1   Luxumberg                  2  \n",
      "2   Sabestine                  3  \n",
      "3       Adgra                  2  \n",
      "4       Johny                  3  \n",
      "5   Luxumberg                  2  \n",
      "6       Johny                  3  \n",
      "7   Sabestine                  3  \n",
      "8       Alter                  2  \n",
      "9   Sabestine                  3  \n",
      "10      Alter                  2  \n",
      "11      Adgra                  2  \n",
      "12      Johny                  3  \n"
     ]
    }
   ],
   "source": [
    "''' Task 4 - Join all three dataframes in one single dataframe. Name it “Final”. '''\n",
    "    \n",
    "# Read all three CSV files\n",
    "project_df = pd.read_csv(\"project_updated.csv\")\n",
    "employee_df = pd.read_csv(\"employee_updated.csv\")\n",
    "seniority_df = pd.read_csv(\"seniority.csv\")\n",
    "\n",
    "# Merge employee and seniority first \n",
    "emp_seniority_df = pd.merge(employee_df, seniority_df, on=\"ID\", how=\"inner\")\n",
    "\n",
    "# Merge with project data\n",
    "final_df = pd.merge(project_df, emp_seniority_df, on=\"ID\", how=\"inner\")\n",
    "\n",
    "# Output of the final merged DataFrame\n",
    "print(\"Final Merged DataFrame:\")\n",
    "print(final_df)\n"
   ]
  },
  {
   "cell_type": "code",
   "execution_count": null,
   "id": "740bd2af-d200-4de0-b15c-e7b599ac9ddb",
   "metadata": {},
   "outputs": [],
   "source": []
  },
  {
   "cell_type": "code",
   "execution_count": 8,
   "id": "e3bbf0af-e05a-49b0-aea6-4266ea17e814",
   "metadata": {},
   "outputs": [],
   "source": []
  },
  {
   "cell_type": "code",
   "execution_count": 28,
   "id": "7af229f4-ba96-465f-98dc-1926d2abebb2",
   "metadata": {},
   "outputs": [
    {
     "name": "stdout",
     "output_type": "stream",
     "text": [
      "Final DataFrame with Bonus Column:\n",
      "      ID     Project          Cost    Status Gender     City  Age First Name  \\\n",
      "0   A001   Project 1  1.002000e+06  Finished      M    Paris   25       John   \n",
      "1   A002   Project 2  2.000000e+06   Ongoing      F   London   27      Alice   \n",
      "2   A003   Project 3  4.500000e+06  Finished      M   Berlin   29        Tom   \n",
      "3   A004   Project 4  5.500000e+06   Ongoing      F  Newyork   31       Nina   \n",
      "4   A005   Project 5  3.250500e+06  Finished      F   Madrid   30        Amy   \n",
      "5   A002   Project 6  6.800000e+05    Failed      F   London   27      Alice   \n",
      "6   A005   Project 7  4.000000e+05  Finished      F   Madrid   30        Amy   \n",
      "7   A003   Project 8  3.500000e+05    Failed      M   Berlin   29        Tom   \n",
      "8   A001   Project 9  2.061714e+06   Ongoing      M    Paris   25       John   \n",
      "9   A003  Project 10  3.000000e+05  Finished      M   Berlin   29        Tom   \n",
      "10  A001  Project 11  2.000000e+06    Failed      M    Paris   25       John   \n",
      "11  A004  Project 12  1.000000e+06   Ongoing      F  Newyork   31       Nina   \n",
      "12  A005  Project 14  2.000000e+05  Finished      F   Madrid   30        Amy   \n",
      "\n",
      "    Last Name  Designation Level   Bonus  \n",
      "0       Alter                  2   50100  \n",
      "1   Luxumberg                  2       0  \n",
      "2   Sabestine                  3  225000  \n",
      "3       Adgra                  2       0  \n",
      "4       Johny                  3  162525  \n",
      "5   Luxumberg                  2       0  \n",
      "6       Johny                  3   20000  \n",
      "7   Sabestine                  3       0  \n",
      "8       Alter                  2       0  \n",
      "9   Sabestine                  3   15000  \n",
      "10      Alter                  2       0  \n",
      "11      Adgra                  2       0  \n",
      "12      Johny                  3   10000  \n"
     ]
    }
   ],
   "source": [
    "''' Task 5 - Add a new bonus column in the Final dataframe. Give a 5% bonus concerning project \n",
    "cost only to employees who have finished the projects.  '''\n",
    "\n",
    "# Read the final merged CSV file\n",
    "final_df = pd.read_csv(\"final_merged_data.csv\")\n",
    "\n",
    "# Adding a new Bonus column here\n",
    "final_df[\"Bonus\"] = 0\n",
    "\n",
    "# Use a for loop to calculate the bonus for Finished projects\n",
    "for i in range(len(final_df)):\n",
    "    if final_df.loc[i, \"Status\"] == \"Finished\":  # check if project is Finished\n",
    "        cost = final_df.loc[i, \"Cost\"]\n",
    "        bonus_amount = cost * 0.05  # 5% of cost\n",
    "        final_df.loc[i, \"Bonus\"] = bonus_amount  # assign to Bonus column\n",
    "        \n",
    "# Output of the final dataframe with the new Bonus column\n",
    "print(\"Final DataFrame with Bonus Column:\")\n",
    "print(final_df)"
   ]
  },
  {
   "cell_type": "code",
   "execution_count": null,
   "id": "7caf52a1-dca5-4e45-8917-5ec9ccac3f45",
   "metadata": {},
   "outputs": [],
   "source": []
  },
  {
   "cell_type": "code",
   "execution_count": 17,
   "id": "9455800f-028a-4430-8a5d-37961992c4ea",
   "metadata": {},
   "outputs": [
    {
     "name": "stdout",
     "output_type": "stream",
     "text": [
      "After Demoting Failed Project Employees:\n",
      "      ID     Project          Cost    Status Gender     City  Age First Name  \\\n",
      "0   A001   Project 1  1.002000e+06  Finished      M    Paris   25       John   \n",
      "1   A002   Project 2  2.000000e+06   Ongoing      F   London   27      Alice   \n",
      "2   A003   Project 3  4.500000e+06  Finished      M   Berlin   29        Tom   \n",
      "3   A004   Project 4  5.500000e+06   Ongoing      F  Newyork   31       Nina   \n",
      "4   A005   Project 5  3.250500e+06  Finished      F   Madrid   30        Amy   \n",
      "5   A002   Project 6  6.800000e+05    Failed      F   London   27      Alice   \n",
      "6   A005   Project 7  4.000000e+05  Finished      F   Madrid   30        Amy   \n",
      "7   A003   Project 8  3.500000e+05    Failed      M   Berlin   29        Tom   \n",
      "8   A001   Project 9  2.061714e+06   Ongoing      M    Paris   25       John   \n",
      "9   A003  Project 10  3.000000e+05  Finished      M   Berlin   29        Tom   \n",
      "10  A001  Project 11  2.000000e+06    Failed      M    Paris   25       John   \n",
      "11  A004  Project 12  1.000000e+06   Ongoing      F  Newyork   31       Nina   \n",
      "12  A005  Project 14  2.000000e+05  Finished      F   Madrid   30        Amy   \n",
      "\n",
      "    Last Name  Designation Level   Bonus  \n",
      "0       Alter                  2   50100  \n",
      "1   Luxumberg                  2       0  \n",
      "2   Sabestine                  3  225000  \n",
      "3       Adgra                  2       0  \n",
      "4       Johny                  3  162525  \n",
      "5   Luxumberg                  1       0  \n",
      "6       Johny                  3   20000  \n",
      "7   Sabestine                  2       0  \n",
      "8       Alter                  2       0  \n",
      "9   Sabestine                  3   15000  \n",
      "10      Alter                  1       0  \n",
      "11      Adgra                  2       0  \n",
      "12      Johny                  3   10000  \n"
     ]
    }
   ],
   "source": [
    "''' Task 6 - Demote the designation level by 1, whose projects have status “fail”. Delete the \n",
    "employees record whose designation level is above 4. '''\n",
    "\n",
    "# Reading the previous CSV file with the Bonus column\n",
    "final_df = pd.read_csv(\"final_with_bonus.csv\")\n",
    "\n",
    "# Demote designation level by 1 for the Failed projects\n",
    "for i in range(len(final_df)):\n",
    "    if final_df.loc[i, \"Status\"] == \"Failed\":\n",
    "        final_df.loc[i, \"Designation Level\"] = final_df.loc[i, \"Designation Level\"] - 1\n",
    "\n",
    "print(\"After Demoting Failed Project Employees:\")\n",
    "print(final_df)"
   ]
  },
  {
   "cell_type": "code",
   "execution_count": 13,
   "id": "308693ae-2307-467d-8ff5-61d4c53783db",
   "metadata": {},
   "outputs": [
    {
     "name": "stdout",
     "output_type": "stream",
     "text": [
      "\n",
      "Final table After Removing Employees with Designation Level > 4:\n",
      "      ID     Project          Cost    Status Gender     City  Age First Name  \\\n",
      "0   A001   Project 1  1.002000e+06  Finished      M    Paris   25       John   \n",
      "1   A002   Project 2  2.000000e+06   Ongoing      F   London   27      Alice   \n",
      "2   A003   Project 3  4.500000e+06  Finished      M   Berlin   29        Tom   \n",
      "3   A004   Project 4  5.500000e+06   Ongoing      F  Newyork   31       Nina   \n",
      "4   A005   Project 5  3.250500e+06  Finished      F   Madrid   30        Amy   \n",
      "5   A002   Project 6  6.800000e+05    Failed      F   London   27      Alice   \n",
      "6   A005   Project 7  4.000000e+05  Finished      F   Madrid   30        Amy   \n",
      "7   A003   Project 8  3.500000e+05    Failed      M   Berlin   29        Tom   \n",
      "8   A001   Project 9  2.061714e+06   Ongoing      M    Paris   25       John   \n",
      "9   A003  Project 10  3.000000e+05  Finished      M   Berlin   29        Tom   \n",
      "10  A001  Project 11  2.000000e+06    Failed      M    Paris   25       John   \n",
      "11  A004  Project 12  1.000000e+06   Ongoing      F  Newyork   31       Nina   \n",
      "12  A005  Project 14  2.000000e+05  Finished      F   Madrid   30        Amy   \n",
      "\n",
      "    Last Name  Designation Level   Bonus  \n",
      "0       Alter                  2   50100  \n",
      "1   Luxumberg                  2       0  \n",
      "2   Sabestine                  3  225000  \n",
      "3       Adgra                  2       0  \n",
      "4       Johny                  3  162525  \n",
      "5   Luxumberg                  1       0  \n",
      "6       Johny                  3   20000  \n",
      "7   Sabestine                  2       0  \n",
      "8       Alter                  2       0  \n",
      "9   Sabestine                  3   15000  \n",
      "10      Alter                  1       0  \n",
      "11      Adgra                  2       0  \n",
      "12      Johny                  3   10000  \n"
     ]
    }
   ],
   "source": [
    "# Delete employees whose designation level is above 4\n",
    "final_df = final_df[final_df[\"Designation Level\"] < 4]\n",
    "\n",
    "print(\"\\nFinal table After Removing Employees with Designation Level > 4:\")\n",
    "print(final_df)"
   ]
  },
  {
   "cell_type": "code",
   "execution_count": null,
   "id": "d74b9d77-4168-44aa-a17e-03dc344fd081",
   "metadata": {},
   "outputs": [],
   "source": []
  },
  {
   "cell_type": "code",
   "execution_count": 27,
   "id": "58b0bc66-c94c-4734-acef-5f66be8153e4",
   "metadata": {},
   "outputs": [
    {
     "name": "stdout",
     "output_type": "stream",
     "text": [
      "Final DataFrame after adding Mr./Mrs. and removing Gender:\n",
      "      ID     Project          Cost    Status     City  Age First Name  \\\n",
      "0   A001   Project 1  1.002000e+06  Finished    Paris   25    Mr.John   \n",
      "1   A002   Project 2  2.000000e+06   Ongoing   London   27  Mrs.Alice   \n",
      "2   A003   Project 3  4.500000e+06  Finished   Berlin   29     Mr.Tom   \n",
      "3   A004   Project 4  5.500000e+06   Ongoing  Newyork   31   Mrs.Nina   \n",
      "4   A005   Project 5  3.250500e+06  Finished   Madrid   30    Mrs.Amy   \n",
      "5   A002   Project 6  6.800000e+05    Failed   London   27  Mrs.Alice   \n",
      "6   A005   Project 7  4.000000e+05  Finished   Madrid   30    Mrs.Amy   \n",
      "7   A003   Project 8  3.500000e+05    Failed   Berlin   29     Mr.Tom   \n",
      "8   A001   Project 9  2.061714e+06   Ongoing    Paris   25    Mr.John   \n",
      "9   A003  Project 10  3.000000e+05  Finished   Berlin   29     Mr.Tom   \n",
      "10  A001  Project 11  2.000000e+06    Failed    Paris   25    Mr.John   \n",
      "11  A004  Project 12  1.000000e+06   Ongoing  Newyork   31   Mrs.Nina   \n",
      "12  A005  Project 14  2.000000e+05  Finished   Madrid   30    Mrs.Amy   \n",
      "\n",
      "    Last Name  Designation Level   Bonus  \n",
      "0       Alter                  2   50100  \n",
      "1   Luxumberg                  2       0  \n",
      "2   Sabestine                  3  225000  \n",
      "3       Adgra                  2       0  \n",
      "4       Johny                  3  162525  \n",
      "5   Luxumberg                  1       0  \n",
      "6       Johny                  3   20000  \n",
      "7   Sabestine                  2       0  \n",
      "8       Alter                  2       0  \n",
      "9   Sabestine                  3   15000  \n",
      "10      Alter                  1       0  \n",
      "11      Adgra                  2       0  \n",
      "12      Johny                  3   10000  \n"
     ]
    }
   ],
   "source": [
    "''' Task 7 - Add “Mr.” and “Mrs.” to the first name column and drop the gender column. '''\n",
    "\n",
    "# Read the CSV file from Task 6\n",
    "final_df = pd.read_csv(\"final_task6.csv\")\n",
    "\n",
    "# Add Mr./Mrs. prefix based on Gender\n",
    "for i in range(len(final_df)):\n",
    "    if final_df.loc[i, \"Gender\"] == \"M\":\n",
    "        final_df.loc[i, \"First Name\"]= \"Mr.\" + final_df.loc[i, \"First Name\"]\n",
    "    else:\n",
    "        final_df.loc[i, \"First Name\"]= \"Mrs.\" + final_df.loc[i, \"First Name\"]\n",
    "\n",
    "# Drop the Gender column\n",
    "final_df = final_df.drop(\"Gender\", axis=1)\n",
    "\n",
    "# Output of the final DataFrame\n",
    "print(\"Final DataFrame after adding Mr./Mrs. and removing Gender:\")\n",
    "print(final_df)"
   ]
  },
  {
   "cell_type": "code",
   "execution_count": null,
   "id": "733a1e6a-e02b-498d-af52-c6180543036f",
   "metadata": {},
   "outputs": [],
   "source": []
  },
  {
   "cell_type": "code",
   "execution_count": 26,
   "id": "4b4e10a4-9a71-47c5-9bac-19af890d5f5c",
   "metadata": {},
   "outputs": [
    {
     "name": "stdout",
     "output_type": "stream",
     "text": [
      "Final DataFrame after Promoting the employees based on the Age):\n",
      "      ID     Project          Cost    Status     City  Age First Name  \\\n",
      "0   A001   Project 1  1.002000e+06  Finished    Paris   25    Mr.John   \n",
      "1   A002   Project 2  2.000000e+06   Ongoing   London   27  Mrs.Alice   \n",
      "2   A003   Project 3  4.500000e+06  Finished   Berlin   29     Mr.Tom   \n",
      "3   A004   Project 4  5.500000e+06   Ongoing  Newyork   31   Mrs.Nina   \n",
      "4   A005   Project 5  3.250500e+06  Finished   Madrid   30    Mrs.Amy   \n",
      "5   A002   Project 6  6.800000e+05    Failed   London   27  Mrs.Alice   \n",
      "6   A005   Project 7  4.000000e+05  Finished   Madrid   30    Mrs.Amy   \n",
      "7   A003   Project 8  3.500000e+05    Failed   Berlin   29     Mr.Tom   \n",
      "8   A001   Project 9  2.061714e+06   Ongoing    Paris   25    Mr.John   \n",
      "9   A003  Project 10  3.000000e+05  Finished   Berlin   29     Mr.Tom   \n",
      "10  A001  Project 11  2.000000e+06    Failed    Paris   25    Mr.John   \n",
      "11  A004  Project 12  1.000000e+06   Ongoing  Newyork   31   Mrs.Nina   \n",
      "12  A005  Project 14  2.000000e+05  Finished   Madrid   30    Mrs.Amy   \n",
      "\n",
      "    Last Name  Designation Level   Bonus  \n",
      "0       Alter                  2   50100  \n",
      "1   Luxumberg                  2       0  \n",
      "2   Sabestine                  3  225000  \n",
      "3       Adgra                  4       0  \n",
      "4       Johny                  5  162525  \n",
      "5   Luxumberg                  1       0  \n",
      "6       Johny                  5   20000  \n",
      "7   Sabestine                  2       0  \n",
      "8       Alter                  2       0  \n",
      "9   Sabestine                  3   15000  \n",
      "10      Alter                  1       0  \n",
      "11      Adgra                  4       0  \n",
      "12      Johny                  5   10000  \n"
     ]
    }
   ],
   "source": [
    "''' Task 8 - Promote designation level by 1 for the employees whose age is more than 29 years using \n",
    "IF condition. '''\n",
    "\n",
    "# Promote the employees with the age more than 29 as below\n",
    "for i in range(len(final_df)):\n",
    "    if final_df.loc[i, \"Age\"] > 29: \n",
    "        final_df.loc[i, \"Designation Level\"] = final_df.loc[i, \"Designation Level\"] + 1\n",
    "\n",
    "# Display the updated DataFrame\n",
    "print(\"Final DataFrame after Promoting the employees based on the Age):\")\n",
    "print(final_df)"
   ]
  },
  {
   "cell_type": "code",
   "execution_count": null,
   "id": "c40ac8f4-c302-456f-8325-a4ad466a6f8a",
   "metadata": {},
   "outputs": [],
   "source": []
  },
  {
   "cell_type": "code",
   "execution_count": 25,
   "id": "6e39acde-4bfd-4d53-b852-46ec2a149bdf",
   "metadata": {},
   "outputs": [
    {
     "name": "stdout",
     "output_type": "stream",
     "text": [
      "Total Project Cost per Employee:\n",
      "     ID First Name    Total Cost\n",
      "0  A001    Mr.John  5.063714e+06\n",
      "1  A002  Mrs.Alice  2.680000e+06\n",
      "2  A003     Mr.Tom  5.150000e+06\n",
      "3  A004   Mrs.Nina  6.500000e+06\n",
      "4  A005    Mrs.Amy  3.850500e+06\n"
     ]
    }
   ],
   "source": [
    "''' Task 9 - Add the cost of all projects for each Employee and save it in new dataframe \n",
    "“TotalProjCost” with three columns ID, First Name, and Total cost. '''\n",
    "\n",
    "# Group by Employee ID and First Name to calculate total project cost below\n",
    "total_cost_df = final_df.groupby([\"ID\", \"First Name\"])[\"Cost\"].sum().reset_index()\n",
    "\n",
    "# Rename the \"Cost\" column to \"Total Cost\"\n",
    "total_cost_df = total_cost_df.rename(columns={\"Cost\": \"Total Cost\"})\n",
    "\n",
    "# Saving to the new DataFrame named TotalProjCost\n",
    "TotalProjCost = total_cost_df\n",
    "\n",
    "# Display the new DataFrame\n",
    "print(\"Total Project Cost per Employee:\")\n",
    "print(TotalProjCost)"
   ]
  },
  {
   "cell_type": "code",
   "execution_count": null,
   "id": "9d9d6388-2040-47c9-b0bd-975aad192dee",
   "metadata": {},
   "outputs": [],
   "source": []
  },
  {
   "cell_type": "code",
   "execution_count": 24,
   "id": "62725d5a-7f95-4158-82c8-a27a8a432f74",
   "metadata": {},
   "outputs": [
    {
     "name": "stdout",
     "output_type": "stream",
     "text": [
      "Employees whose City name contains the letter 'o':\n",
      "      ID     Project       Cost   Status     City  Age First Name  Last Name  \\\n",
      "1   A002   Project 2  2000000.0  Ongoing   London   27  Mrs.Alice  Luxumberg   \n",
      "3   A004   Project 4  5500000.0  Ongoing  Newyork   31   Mrs.Nina      Adgra   \n",
      "5   A002   Project 6   680000.0   Failed   London   27  Mrs.Alice  Luxumberg   \n",
      "11  A004  Project 12  1000000.0  Ongoing  Newyork   31   Mrs.Nina      Adgra   \n",
      "\n",
      "    Designation Level  Bonus  \n",
      "1                   2      0  \n",
      "3                   3      0  \n",
      "5                   1      0  \n",
      "11                  3      0  \n"
     ]
    }
   ],
   "source": [
    "''' Task 10 - Print all the employee details whose city name contains the letter “o” in it. '''\n",
    "\n",
    "\n",
    "# Filter the employees with the city that contains \"o\" (case-insensitive)\n",
    "employees_city = final_df[final_df[\"City\"].str.contains(\"o\", case=False)]\n",
    "\n",
    "# Printing the result\n",
    "print(\"Employees whose City name contains the letter 'o':\")\n",
    "print(employees_city)"
   ]
  },
  {
   "cell_type": "code",
   "execution_count": null,
   "id": "a4f5a923-d84c-4ce7-87ee-fb0ef31d6472",
   "metadata": {},
   "outputs": [],
   "source": []
  }
 ],
 "metadata": {
  "kernelspec": {
   "display_name": "Python 3 (ipykernel)",
   "language": "python",
   "name": "python3"
  },
  "language_info": {
   "codemirror_mode": {
    "name": "ipython",
    "version": 3
   },
   "file_extension": ".py",
   "mimetype": "text/x-python",
   "name": "python",
   "nbconvert_exporter": "python",
   "pygments_lexer": "ipython3",
   "version": "3.13.5"
  }
 },
 "nbformat": 4,
 "nbformat_minor": 5
}
